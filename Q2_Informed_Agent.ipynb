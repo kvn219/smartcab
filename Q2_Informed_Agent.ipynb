{
 "cells": [
  {
   "cell_type": "code",
   "execution_count": 2,
   "metadata": {
    "ExecuteTime": {
     "end_time": "2016-08-10T15:51:16.094959",
     "start_time": "2016-08-10T15:51:16.058216"
    },
    "collapsed": false
   },
   "outputs": [
    {
     "name": "stdout",
     "output_type": "stream",
     "text": [
      "The autoreload extension is already loaded. To reload it, use:\n",
      "  %reload_ext autoreload\n"
     ]
    }
   ],
   "source": [
    "%matplotlib inline\n",
    "%load_ext autoreload\n",
    "%autoreload 2\n",
    "from __future__ import division, print_function\n",
    "from __future__ import absolute_import, unicode_literals\n",
    "from IPython.display import display\n",
    "import pandas as pd\n",
    "import numpy as np\n",
    "from functools import reduce\n",
    "import matplotlib.pyplot as plt\n",
    "import seaborn as sns\n",
    "from tabulate import tabulate\n",
    "\n",
    "import bokeh.io\n",
    "import bokeh.mpl\n",
    "import bokeh.plotting\n",
    "\n",
    "%config InlineBackend.figure_formats = {'eps', 'retina'}\n",
    "bokeh.io.output_notebook()\n",
    "\n",
    "rc = {'lines.linewidth': 1, \n",
    "      'axes.labelsize': 14, \n",
    "      'axes.titlesize': 14, \n",
    "      'axes.facecolor': 'FFFFFF',\n",
    "       }\n",
    "\n",
    "sns.set_context('notebook', rc=rc)\n",
    "sns.set_style('white', rc=rc)\n",
    "sns.set_palette(\"colorblind\")\n",
    "\n",
    "pd.set_option('precision', 4)\n",
    "pd.set_option('display.max_rows', 500)\n",
    "pd.set_option('display.max_columns', 500)\n",
    "pd.set_option('display.width', 1000)"
   ]
  },
  {
   "cell_type": "code",
   "execution_count": 8,
   "metadata": {
    "ExecuteTime": {
     "end_time": "2016-08-10T15:52:08.830522",
     "start_time": "2016-08-10T15:52:08.773746"
    },
    "collapsed": true
   },
   "outputs": [],
   "source": [
    "def is_bad(x):\n",
    "    if x in [-0.5, -1.0, 9.5]:\n",
    "        return True\n",
    "    else:\n",
    "        return False\n",
    "\n",
    "def load_transform(fp):\n",
    "    df = pd.read_json(fp)\n",
    "    df = df.sort_values(by=['trip', 't'])\n",
    "    bins = [0, 10, 20, 30, 40, 50, 60, 70, 80, 90, 100]\n",
    "    df['trip_interval'] = pd.cut(df['trip'], \n",
    "                                    bins=bins,\n",
    "                                    precision=3,\n",
    "                                    labels = trips_intervals)\n",
    "    df['success'] = df['success'].astype(int)\n",
    "    df['reward'] = df['reward'].astype(int)\n",
    "    df['bad_moves'] = df['reward'].apply(lambda x: int(is_bad(x)))\n",
    "    return df\n",
    "\n",
    "\n",
    "def plot_path(df, deadline=False):\n",
    "    df = df.sort_values(by=['trip', 't'])\n",
    "    grid = sns.FacetGrid(df, col=\"trip\", \n",
    "                         hue=\"trip\",\n",
    "                         col_wrap=5,\n",
    "                         size=2.0,\n",
    "                         aspect=1.5)\n",
    "    grid.map(plt.axhline, y=0, ls=\":\", c=\".5\", label='No move')\n",
    "    grid.map(plt.plot, \"t\", \"reward\", marker=\"o\", ms=5, lw=.8)\n",
    "\n",
    "    if deadline:\n",
    "        grid.set(xticks=np.linspace(0, 50, 6, endpoint=True), xlim=(-1, 50), ylim=(-3, 13))\n",
    "    else:\n",
    "        grid.set(xticks=np.linspace(0, 150, 6, endpoint=True), xlim=(-1, 150), ylim=(-3, 13))\n",
    "    grid.fig.tight_layout(w_pad=1)\n",
    "    plt.savefig(\"./figures/informed_agent.eps\", format='eps', dpi=1000)\n",
    "\n",
    "def review_results(df):\n",
    "    print('Successful trips:')\n",
    "    display(pd.crosstab(df.trip_interval, df.success, margins=True).T)\n",
    "    \n",
    "    print(\"\\nRewards:\")\n",
    "    display(pd.crosstab(df.trip_interval, df.reward, margins=True).T)\n",
    "\n",
    "    print(\"\\nBad moves:\")\n",
    "    display(pd.crosstab(df.trip_interval, df.bad_moves, margins=True).T)\n",
    "    \n",
    "def publish_results(df):\n",
    "    print(tabulate(df.groupby(['trip_interval'])['success', 'bad_moves'].sum(),\n",
    "         headers=['Trips', 'Success', 'Bad moves'],\n",
    "         tablefmt='latex_booktabs'))\n",
    "    \n",
    "trips_intervals = ['01 - 10', '11 - 20', '21 - 30', '31 - 40', '41 - 50', '51 - 60', '61 - 70', '71 - 80', '81 - 90', '91 - 100']"
   ]
  },
  {
   "cell_type": "code",
   "execution_count": 9,
   "metadata": {
    "ExecuteTime": {
     "end_time": "2016-08-10T15:52:09.509537",
     "start_time": "2016-08-10T15:52:09.317398"
    },
    "collapsed": false
   },
   "outputs": [],
   "source": [
    "# File needed for the notebook\n",
    "fp = \"./results/informed_agent.json\"\n",
    "df = load_transform(fp)"
   ]
  },
  {
   "cell_type": "code",
   "execution_count": 10,
   "metadata": {
    "ExecuteTime": {
     "end_time": "2016-08-10T15:52:09.888522",
     "start_time": "2016-08-10T15:52:09.765803"
    },
    "collapsed": false
   },
   "outputs": [
    {
     "name": "stdout",
     "output_type": "stream",
     "text": [
      "Successful trips:\n"
     ]
    },
    {
     "data": {
      "text/html": [
       "<div>\n",
       "<table border=\"1\" class=\"dataframe\">\n",
       "  <thead>\n",
       "    <tr style=\"text-align: right;\">\n",
       "      <th>trip_interval</th>\n",
       "      <th>01 - 10</th>\n",
       "      <th>11 - 20</th>\n",
       "      <th>21 - 30</th>\n",
       "      <th>31 - 40</th>\n",
       "      <th>41 - 50</th>\n",
       "      <th>51 - 60</th>\n",
       "      <th>61 - 70</th>\n",
       "      <th>71 - 80</th>\n",
       "      <th>81 - 90</th>\n",
       "      <th>91 - 100</th>\n",
       "      <th>All</th>\n",
       "    </tr>\n",
       "    <tr>\n",
       "      <th>success</th>\n",
       "      <th></th>\n",
       "      <th></th>\n",
       "      <th></th>\n",
       "      <th></th>\n",
       "      <th></th>\n",
       "      <th></th>\n",
       "      <th></th>\n",
       "      <th></th>\n",
       "      <th></th>\n",
       "      <th></th>\n",
       "      <th></th>\n",
       "    </tr>\n",
       "  </thead>\n",
       "  <tbody>\n",
       "    <tr>\n",
       "      <th>0</th>\n",
       "      <td>63</td>\n",
       "      <td>709</td>\n",
       "      <td>318</td>\n",
       "      <td>865</td>\n",
       "      <td>466</td>\n",
       "      <td>83</td>\n",
       "      <td>292</td>\n",
       "      <td>843</td>\n",
       "      <td>457</td>\n",
       "      <td>241</td>\n",
       "      <td>4337</td>\n",
       "    </tr>\n",
       "    <tr>\n",
       "      <th>1</th>\n",
       "      <td>6</td>\n",
       "      <td>5</td>\n",
       "      <td>6</td>\n",
       "      <td>4</td>\n",
       "      <td>6</td>\n",
       "      <td>6</td>\n",
       "      <td>9</td>\n",
       "      <td>1</td>\n",
       "      <td>6</td>\n",
       "      <td>8</td>\n",
       "      <td>57</td>\n",
       "    </tr>\n",
       "    <tr>\n",
       "      <th>All</th>\n",
       "      <td>69</td>\n",
       "      <td>714</td>\n",
       "      <td>324</td>\n",
       "      <td>869</td>\n",
       "      <td>472</td>\n",
       "      <td>89</td>\n",
       "      <td>301</td>\n",
       "      <td>844</td>\n",
       "      <td>463</td>\n",
       "      <td>249</td>\n",
       "      <td>4394</td>\n",
       "    </tr>\n",
       "  </tbody>\n",
       "</table>\n",
       "</div>"
      ],
      "text/plain": [
       "trip_interval  01 - 10  11 - 20  21 - 30  31 - 40  41 - 50  51 - 60  61 - 70  71 - 80  81 - 90  91 - 100   All\n",
       "success                                                                                                       \n",
       "0                   63      709      318      865      466       83      292      843      457       241  4337\n",
       "1                    6        5        6        4        6        6        9        1        6         8    57\n",
       "All                 69      714      324      869      472       89      301      844      463       249  4394"
      ]
     },
     "metadata": {},
     "output_type": "display_data"
    },
    {
     "name": "stdout",
     "output_type": "stream",
     "text": [
      "\n",
      "Rewards:\n"
     ]
    },
    {
     "data": {
      "text/html": [
       "<div>\n",
       "<table border=\"1\" class=\"dataframe\">\n",
       "  <thead>\n",
       "    <tr style=\"text-align: right;\">\n",
       "      <th>trip_interval</th>\n",
       "      <th>01 - 10</th>\n",
       "      <th>11 - 20</th>\n",
       "      <th>21 - 30</th>\n",
       "      <th>31 - 40</th>\n",
       "      <th>41 - 50</th>\n",
       "      <th>51 - 60</th>\n",
       "      <th>61 - 70</th>\n",
       "      <th>71 - 80</th>\n",
       "      <th>81 - 90</th>\n",
       "      <th>91 - 100</th>\n",
       "      <th>All</th>\n",
       "    </tr>\n",
       "    <tr>\n",
       "      <th>reward</th>\n",
       "      <th></th>\n",
       "      <th></th>\n",
       "      <th></th>\n",
       "      <th></th>\n",
       "      <th></th>\n",
       "      <th></th>\n",
       "      <th></th>\n",
       "      <th></th>\n",
       "      <th></th>\n",
       "      <th></th>\n",
       "      <th></th>\n",
       "    </tr>\n",
       "  </thead>\n",
       "  <tbody>\n",
       "    <tr>\n",
       "      <th>-1</th>\n",
       "      <td>0</td>\n",
       "      <td>2</td>\n",
       "      <td>0</td>\n",
       "      <td>0</td>\n",
       "      <td>1</td>\n",
       "      <td>0</td>\n",
       "      <td>0</td>\n",
       "      <td>0</td>\n",
       "      <td>1</td>\n",
       "      <td>0</td>\n",
       "      <td>4</td>\n",
       "    </tr>\n",
       "    <tr>\n",
       "      <th>0</th>\n",
       "      <td>33</td>\n",
       "      <td>43</td>\n",
       "      <td>75</td>\n",
       "      <td>77</td>\n",
       "      <td>58</td>\n",
       "      <td>50</td>\n",
       "      <td>115</td>\n",
       "      <td>82</td>\n",
       "      <td>48</td>\n",
       "      <td>76</td>\n",
       "      <td>657</td>\n",
       "    </tr>\n",
       "    <tr>\n",
       "      <th>2</th>\n",
       "      <td>30</td>\n",
       "      <td>664</td>\n",
       "      <td>244</td>\n",
       "      <td>789</td>\n",
       "      <td>407</td>\n",
       "      <td>33</td>\n",
       "      <td>178</td>\n",
       "      <td>761</td>\n",
       "      <td>410</td>\n",
       "      <td>165</td>\n",
       "      <td>3681</td>\n",
       "    </tr>\n",
       "    <tr>\n",
       "      <th>12</th>\n",
       "      <td>6</td>\n",
       "      <td>5</td>\n",
       "      <td>5</td>\n",
       "      <td>3</td>\n",
       "      <td>6</td>\n",
       "      <td>6</td>\n",
       "      <td>8</td>\n",
       "      <td>1</td>\n",
       "      <td>4</td>\n",
       "      <td>8</td>\n",
       "      <td>52</td>\n",
       "    </tr>\n",
       "    <tr>\n",
       "      <th>All</th>\n",
       "      <td>69</td>\n",
       "      <td>714</td>\n",
       "      <td>324</td>\n",
       "      <td>869</td>\n",
       "      <td>472</td>\n",
       "      <td>89</td>\n",
       "      <td>301</td>\n",
       "      <td>844</td>\n",
       "      <td>463</td>\n",
       "      <td>249</td>\n",
       "      <td>4394</td>\n",
       "    </tr>\n",
       "  </tbody>\n",
       "</table>\n",
       "</div>"
      ],
      "text/plain": [
       "trip_interval  01 - 10  11 - 20  21 - 30  31 - 40  41 - 50  51 - 60  61 - 70  71 - 80  81 - 90  91 - 100   All\n",
       "reward                                                                                                        \n",
       "-1                   0        2        0        0        1        0        0        0        1         0     4\n",
       "0                   33       43       75       77       58       50      115       82       48        76   657\n",
       "2                   30      664      244      789      407       33      178      761      410       165  3681\n",
       "12                   6        5        5        3        6        6        8        1        4         8    52\n",
       "All                 69      714      324      869      472       89      301      844      463       249  4394"
      ]
     },
     "metadata": {},
     "output_type": "display_data"
    },
    {
     "name": "stdout",
     "output_type": "stream",
     "text": [
      "\n",
      "Bad moves:\n"
     ]
    },
    {
     "data": {
      "text/html": [
       "<div>\n",
       "<table border=\"1\" class=\"dataframe\">\n",
       "  <thead>\n",
       "    <tr style=\"text-align: right;\">\n",
       "      <th>trip_interval</th>\n",
       "      <th>01 - 10</th>\n",
       "      <th>11 - 20</th>\n",
       "      <th>21 - 30</th>\n",
       "      <th>31 - 40</th>\n",
       "      <th>41 - 50</th>\n",
       "      <th>51 - 60</th>\n",
       "      <th>61 - 70</th>\n",
       "      <th>71 - 80</th>\n",
       "      <th>81 - 90</th>\n",
       "      <th>91 - 100</th>\n",
       "      <th>All</th>\n",
       "    </tr>\n",
       "    <tr>\n",
       "      <th>bad_moves</th>\n",
       "      <th></th>\n",
       "      <th></th>\n",
       "      <th></th>\n",
       "      <th></th>\n",
       "      <th></th>\n",
       "      <th></th>\n",
       "      <th></th>\n",
       "      <th></th>\n",
       "      <th></th>\n",
       "      <th></th>\n",
       "      <th></th>\n",
       "    </tr>\n",
       "  </thead>\n",
       "  <tbody>\n",
       "    <tr>\n",
       "      <th>0</th>\n",
       "      <td>69</td>\n",
       "      <td>712</td>\n",
       "      <td>324</td>\n",
       "      <td>869</td>\n",
       "      <td>471</td>\n",
       "      <td>89</td>\n",
       "      <td>301</td>\n",
       "      <td>844</td>\n",
       "      <td>462</td>\n",
       "      <td>249</td>\n",
       "      <td>4390</td>\n",
       "    </tr>\n",
       "    <tr>\n",
       "      <th>1</th>\n",
       "      <td>0</td>\n",
       "      <td>2</td>\n",
       "      <td>0</td>\n",
       "      <td>0</td>\n",
       "      <td>1</td>\n",
       "      <td>0</td>\n",
       "      <td>0</td>\n",
       "      <td>0</td>\n",
       "      <td>1</td>\n",
       "      <td>0</td>\n",
       "      <td>4</td>\n",
       "    </tr>\n",
       "    <tr>\n",
       "      <th>All</th>\n",
       "      <td>69</td>\n",
       "      <td>714</td>\n",
       "      <td>324</td>\n",
       "      <td>869</td>\n",
       "      <td>472</td>\n",
       "      <td>89</td>\n",
       "      <td>301</td>\n",
       "      <td>844</td>\n",
       "      <td>463</td>\n",
       "      <td>249</td>\n",
       "      <td>4394</td>\n",
       "    </tr>\n",
       "  </tbody>\n",
       "</table>\n",
       "</div>"
      ],
      "text/plain": [
       "trip_interval  01 - 10  11 - 20  21 - 30  31 - 40  41 - 50  51 - 60  61 - 70  71 - 80  81 - 90  91 - 100   All\n",
       "bad_moves                                                                                                     \n",
       "0                   69      712      324      869      471       89      301      844      462       249  4390\n",
       "1                    0        2        0        0        1        0        0        0        1         0     4\n",
       "All                 69      714      324      869      472       89      301      844      463       249  4394"
      ]
     },
     "metadata": {},
     "output_type": "display_data"
    }
   ],
   "source": [
    "# Random Action No Deadline\n",
    "review_results(df)"
   ]
  },
  {
   "cell_type": "code",
   "execution_count": 11,
   "metadata": {
    "ExecuteTime": {
     "end_time": "2016-08-10T15:52:10.432624",
     "start_time": "2016-08-10T15:52:10.413614"
    },
    "collapsed": false
   },
   "outputs": [
    {
     "name": "stdout",
     "output_type": "stream",
     "text": [
      "\\begin{tabular}{lrr}\n",
      "\\toprule\n",
      " Trips    &   Success &   Bad moves \\\\\n",
      "\\midrule\n",
      " 01 - 10  &         6 &           0 \\\\\n",
      " 11 - 20  &         5 &           2 \\\\\n",
      " 21 - 30  &         6 &           0 \\\\\n",
      " 31 - 40  &         4 &           0 \\\\\n",
      " 41 - 50  &         6 &           1 \\\\\n",
      " 51 - 60  &         6 &           0 \\\\\n",
      " 61 - 70  &         9 &           0 \\\\\n",
      " 71 - 80  &         1 &           0 \\\\\n",
      " 81 - 90  &         6 &           1 \\\\\n",
      " 91 - 100 &         8 &           0 \\\\\n",
      "\\bottomrule\n",
      "\\end{tabular}\n"
     ]
    }
   ],
   "source": [
    "publish_results(df)"
   ]
  },
  {
   "cell_type": "code",
   "execution_count": 12,
   "metadata": {
    "ExecuteTime": {
     "end_time": "2016-08-10T15:52:13.925909",
     "start_time": "2016-08-10T15:52:11.085773"
    },
    "collapsed": false
   },
   "outputs": [
    {
     "data": {
      "text/plain": [
       "<matplotlib.figure.Figure at 0x10fec0198>"
      ]
     },
     "metadata": {},
     "output_type": "display_data"
    }
   ],
   "source": [
    "first_20 = df[df['trip'] <= 20]\n",
    "plot_path(first_20, deadline=False)"
   ]
  },
  {
   "cell_type": "code",
   "execution_count": 13,
   "metadata": {
    "ExecuteTime": {
     "end_time": "2016-08-10T15:52:13.986748",
     "start_time": "2016-08-10T15:52:13.927451"
    },
    "collapsed": false,
    "scrolled": true
   },
   "outputs": [
    {
     "name": "stdout",
     "output_type": "stream",
     "text": [
      "\\begin{tabular}{lrr}\n",
      "\\toprule\n",
      " Trips    &   Success &   Bad moves \\\\\n",
      "\\midrule\n",
      " 01 - 10  &         5 &           0 \\\\\n",
      " 11 - 20  &         4 &           0 \\\\\n",
      " 21 - 30  &         5 &           0 \\\\\n",
      " 31 - 40  &         5 &           1 \\\\\n",
      " 41 - 50  &         2 &           0 \\\\\n",
      " 51 - 60  &         7 &           0 \\\\\n",
      " 61 - 70  &         3 &           0 \\\\\n",
      " 71 - 80  &         4 &           1 \\\\\n",
      " 81 - 90  &         6 &           1 \\\\\n",
      " 91 - 100 &         4 &           0 \\\\\n",
      "\\bottomrule\n",
      "\\end{tabular}\n"
     ]
    }
   ],
   "source": [
    "informed_agent_dealine = load_transform(\"./results/informed_agent_deadline.json\")\n",
    "publish_results(informed_agent_dealine)"
   ]
  }
 ],
 "metadata": {
  "kernelspec": {
   "display_name": "Python 3",
   "language": "python",
   "name": "python3"
  },
  "language_info": {
   "codemirror_mode": {
    "name": "ipython",
    "version": 3
   },
   "file_extension": ".py",
   "mimetype": "text/x-python",
   "name": "python",
   "nbconvert_exporter": "python",
   "pygments_lexer": "ipython3",
   "version": "3.5.1"
  },
  "latex_envs": {
   "bibliofile": "biblio.bib",
   "cite_by": "apalike",
   "current_citInitial": 1,
   "eqLabelWithNumbers": true,
   "eqNumInitial": 0
  }
 },
 "nbformat": 4,
 "nbformat_minor": 0
}

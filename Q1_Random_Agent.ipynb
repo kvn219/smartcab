{
 "cells": [
  {
   "cell_type": "code",
   "execution_count": 1,
   "metadata": {
    "ExecuteTime": {
     "end_time": "2016-08-10T19:49:33.203247",
     "start_time": "2016-08-10T19:49:31.829165"
    },
    "collapsed": false
   },
   "outputs": [
    {
     "data": {
      "text/html": [
       "\n",
       "    <div class=\"bk-root\">\n",
       "        <a href=\"http://bokeh.pydata.org\" target=\"_blank\" class=\"bk-logo bk-logo-small bk-logo-notebook\"></a>\n",
       "        <span id=\"118aaa39-fcfd-499b-b05b-01bc827e2ed0\">Loading BokehJS ...</span>\n",
       "    </div>"
      ]
     },
     "metadata": {},
     "output_type": "display_data"
    },
    {
     "data": {
      "application/javascript": [
       "\n",
       "(function(global) {\n",
       "  function now() {\n",
       "    return new Date();\n",
       "  }\n",
       "\n",
       "  var force = \"1\";\n",
       "\n",
       "  if (typeof (window._bokeh_onload_callbacks) === \"undefined\" || force !== \"\") {\n",
       "    window._bokeh_onload_callbacks = [];\n",
       "    window._bokeh_is_loading = undefined;\n",
       "  }\n",
       "\n",
       "  function run_callbacks() {\n",
       "    window._bokeh_onload_callbacks.forEach(function(callback) { callback() });\n",
       "    delete window._bokeh_onload_callbacks\n",
       "    console.info(\"Bokeh: all callbacks have finished\");\n",
       "  }\n",
       "\n",
       "  function load_libs(js_urls, callback) {\n",
       "    window._bokeh_onload_callbacks.push(callback);\n",
       "    if (window._bokeh_is_loading > 0) {\n",
       "      console.log(\"Bokeh: BokehJS is being loaded, scheduling callback at\", now());\n",
       "      return null;\n",
       "    }\n",
       "    if (js_urls == null || js_urls.length === 0) {\n",
       "      run_callbacks();\n",
       "      return null;\n",
       "    }\n",
       "    console.log(\"Bokeh: BokehJS not loaded, scheduling load and callback at\", now());\n",
       "    window._bokeh_is_loading = js_urls.length;\n",
       "    for (var i = 0; i < js_urls.length; i++) {\n",
       "      var url = js_urls[i];\n",
       "      var s = document.createElement('script');\n",
       "      s.src = url;\n",
       "      s.async = false;\n",
       "      s.onreadystatechange = s.onload = function() {\n",
       "        window._bokeh_is_loading--;\n",
       "        if (window._bokeh_is_loading === 0) {\n",
       "          console.log(\"Bokeh: all BokehJS libraries loaded\");\n",
       "          run_callbacks()\n",
       "        }\n",
       "      };\n",
       "      s.onerror = function() {\n",
       "        console.warn(\"failed to load library \" + url);\n",
       "      };\n",
       "      console.log(\"Bokeh: injecting script tag for BokehJS library: \", url);\n",
       "      document.getElementsByTagName(\"head\")[0].appendChild(s);\n",
       "    }\n",
       "  };\n",
       "\n",
       "  var js_urls = ['https://cdn.pydata.org/bokeh/release/bokeh-0.12.1.min.js', 'https://cdn.pydata.org/bokeh/release/bokeh-widgets-0.12.1.min.js', 'https://cdn.pydata.org/bokeh/release/bokeh-compiler-0.12.1.min.js'];\n",
       "\n",
       "  var inline_js = [\n",
       "    function(Bokeh) {\n",
       "      Bokeh.set_log_level(\"info\");\n",
       "    },\n",
       "    \n",
       "    function(Bokeh) {\n",
       "      \n",
       "      Bokeh.$(\"#118aaa39-fcfd-499b-b05b-01bc827e2ed0\").text(\"BokehJS successfully loaded\");\n",
       "      var kernel = Jupyter.notebook.kernel\n",
       "      if (kernel.execute !== undefined) {\n",
       "          kernel.execute(\"import bokeh.io; bokeh.io._nb_loaded = True\");\n",
       "      }\n",
       "    },\n",
       "    function(Bokeh) {\n",
       "      console.log(\"Bokeh: injecting CSS: https://cdn.pydata.org/bokeh/release/bokeh-0.12.1.min.css\");\n",
       "      Bokeh.embed.inject_css(\"https://cdn.pydata.org/bokeh/release/bokeh-0.12.1.min.css\");\n",
       "      console.log(\"Bokeh: injecting CSS: https://cdn.pydata.org/bokeh/release/bokeh-widgets-0.12.1.min.css\");\n",
       "      Bokeh.embed.inject_css(\"https://cdn.pydata.org/bokeh/release/bokeh-widgets-0.12.1.min.css\");\n",
       "    }\n",
       "  ];\n",
       "\n",
       "  function run_inline_js() {\n",
       "    for (var i = 0; i < inline_js.length; i++) {\n",
       "      inline_js[i](window.Bokeh);\n",
       "    }\n",
       "  }\n",
       "\n",
       "  if (window._bokeh_is_loading === 0) {\n",
       "    console.log(\"Bokeh: BokehJS loaded, going straight to plotting\");\n",
       "    run_inline_js();\n",
       "  } else {\n",
       "    load_libs(js_urls, function() {\n",
       "      console.log(\"Bokeh: BokehJS plotting callback run at\", now());\n",
       "      run_inline_js();\n",
       "    });\n",
       "  }\n",
       "}(this));"
      ]
     },
     "metadata": {},
     "output_type": "display_data"
    }
   ],
   "source": [
    "%matplotlib inline\n",
    "%load_ext autoreload\n",
    "%autoreload 2\n",
    "from __future__ import division, print_function\n",
    "from __future__ import absolute_import, unicode_literals\n",
    "from IPython.display import display\n",
    "import pandas as pd\n",
    "import numpy as np\n",
    "from functools import reduce\n",
    "import matplotlib.pyplot as plt\n",
    "import seaborn as sns\n",
    "from tabulate import tabulate\n",
    "\n",
    "import bokeh.io\n",
    "import bokeh.mpl\n",
    "import bokeh.plotting\n",
    "\n",
    "%config InlineBackend.figure_formats = {'eps', 'retina'}\n",
    "bokeh.io.output_notebook()\n",
    "\n",
    "rc = {'lines.linewidth': 1, \n",
    "      'axes.labelsize': 14, \n",
    "      'axes.titlesize': 14, \n",
    "      'axes.facecolor': 'FFFFFF',\n",
    "       }\n",
    "\n",
    "sns.set_context('notebook', rc=rc)\n",
    "sns.set_style('white', rc=rc)\n",
    "sns.set_palette(\"colorblind\")\n",
    "\n",
    "pd.set_option('precision', 4)\n",
    "pd.set_option('display.max_rows', 500)\n",
    "pd.set_option('display.max_columns', 500)\n",
    "pd.set_option('display.width', 1000)"
   ]
  },
  {
   "cell_type": "code",
   "execution_count": 2,
   "metadata": {
    "ExecuteTime": {
     "end_time": "2016-08-10T19:49:33.266054",
     "start_time": "2016-08-10T19:49:33.205061"
    },
    "collapsed": true
   },
   "outputs": [],
   "source": [
    "def is_bad(x):\n",
    "    if x in [-0.5, -1.0, 9.5]:\n",
    "        return True\n",
    "    else:\n",
    "        return False\n",
    "\n",
    "def load_transform(fp):\n",
    "    df = pd.read_json(fp)\n",
    "    df = df.sort_values(by=['trip', 't'])\n",
    "    bins = [0, 10, 20, 30, 40, 50, 60, 70, 80, 90, 100]\n",
    "    df['trip_interval'] = pd.cut(df['trip'], \n",
    "                                    bins=bins,\n",
    "                                    precision=3,\n",
    "                                    labels = trips_intervals)\n",
    "    df['success'] = df['success'].astype(int)\n",
    "    df['reward'] = df['reward'].astype(int)\n",
    "    df['bad_moves'] = df['reward'].apply(lambda x: int(is_bad(x)))\n",
    "    return df\n",
    "\n",
    "\n",
    "def plot_path(df, deadline=False):\n",
    "    df = df.sort_values(by=['trip', 't'])\n",
    "    grid = sns.FacetGrid(df, col=\"trip\", \n",
    "                         hue=\"trip\",\n",
    "                         col_wrap=5,\n",
    "                         size=2.0,\n",
    "                         aspect=1.5)\n",
    "    grid.map(plt.axhline, y=0, ls=\":\", c=\".5\", label='No move')\n",
    "    grid.map(plt.plot, \"t\", \"reward\", marker=\"o\", ms=5, lw=.8)\n",
    "\n",
    "    if deadline:\n",
    "        grid.set(xticks=np.linspace(0, 50, 6, endpoint=True), xlim=(-1, 50), ylim=(-3, 13))\n",
    "    else:\n",
    "        grid.set(xticks=np.linspace(0, 150, 6, endpoint=True), xlim=(-1, 150), ylim=(-3, 13))\n",
    "    grid.fig.tight_layout(w_pad=1)\n",
    "    plt.savefig(\"./figures/random_agent.eps\", format='eps', dpi=1000)\n",
    "\n",
    "def review_results(df):\n",
    "    print('Successful trips:')\n",
    "    display(pd.crosstab(df.trip_interval, df.success, margins=True).T)\n",
    "    \n",
    "    print(\"\\nRewards:\")\n",
    "    display(pd.crosstab(df.trip_interval, df.reward, margins=True).T)\n",
    "\n",
    "    print(\"\\nBad moves:\")\n",
    "    display(pd.crosstab(df.trip_interval, df.bad_moves, margins=True).T)\n",
    "    \n",
    "def publish_results(df):\n",
    "    print(tabulate(df.groupby(['trip_interval'])['success', 'bad_moves'].sum(),\n",
    "         headers=['Trips', 'Success', 'Bad moves'],\n",
    "         tablefmt='latex_booktabs'))\n",
    "    \n",
    "trips_intervals = ['01 - 10', '11 - 20', '21 - 30', '31 - 40', '41 - 50', '51 - 60', '61 - 70', '71 - 80', '81 - 90', '91 - 100']"
   ]
  },
  {
   "cell_type": "code",
   "execution_count": 3,
   "metadata": {
    "ExecuteTime": {
     "end_time": "2016-08-10T19:49:33.283946",
     "start_time": "2016-08-10T19:49:33.267775"
    },
    "collapsed": false
   },
   "outputs": [],
   "source": [
    "fp = \"./results/random_agent.json\""
   ]
  },
  {
   "cell_type": "code",
   "execution_count": 4,
   "metadata": {
    "ExecuteTime": {
     "end_time": "2016-08-10T19:49:33.558865",
     "start_time": "2016-08-10T19:49:33.285575"
    },
    "collapsed": false
   },
   "outputs": [
    {
     "name": "stdout",
     "output_type": "stream",
     "text": [
      "Successful trips:\n"
     ]
    },
    {
     "data": {
      "text/html": [
       "<div>\n",
       "<table border=\"1\" class=\"dataframe\">\n",
       "  <thead>\n",
       "    <tr style=\"text-align: right;\">\n",
       "      <th>trip_interval</th>\n",
       "      <th>01 - 10</th>\n",
       "      <th>11 - 20</th>\n",
       "      <th>21 - 30</th>\n",
       "      <th>31 - 40</th>\n",
       "      <th>41 - 50</th>\n",
       "      <th>51 - 60</th>\n",
       "      <th>61 - 70</th>\n",
       "      <th>71 - 80</th>\n",
       "      <th>81 - 90</th>\n",
       "      <th>91 - 100</th>\n",
       "      <th>All</th>\n",
       "    </tr>\n",
       "    <tr>\n",
       "      <th>success</th>\n",
       "      <th></th>\n",
       "      <th></th>\n",
       "      <th></th>\n",
       "      <th></th>\n",
       "      <th></th>\n",
       "      <th></th>\n",
       "      <th></th>\n",
       "      <th></th>\n",
       "      <th></th>\n",
       "      <th></th>\n",
       "      <th></th>\n",
       "    </tr>\n",
       "  </thead>\n",
       "  <tbody>\n",
       "    <tr>\n",
       "      <th>0</th>\n",
       "      <td>979</td>\n",
       "      <td>618</td>\n",
       "      <td>830</td>\n",
       "      <td>635</td>\n",
       "      <td>816</td>\n",
       "      <td>804</td>\n",
       "      <td>957</td>\n",
       "      <td>522</td>\n",
       "      <td>577</td>\n",
       "      <td>522</td>\n",
       "      <td>7260</td>\n",
       "    </tr>\n",
       "    <tr>\n",
       "      <th>1</th>\n",
       "      <td>1</td>\n",
       "      <td>1</td>\n",
       "      <td>3</td>\n",
       "      <td>4</td>\n",
       "      <td>5</td>\n",
       "      <td>4</td>\n",
       "      <td>4</td>\n",
       "      <td>7</td>\n",
       "      <td>6</td>\n",
       "      <td>3</td>\n",
       "      <td>38</td>\n",
       "    </tr>\n",
       "    <tr>\n",
       "      <th>All</th>\n",
       "      <td>980</td>\n",
       "      <td>619</td>\n",
       "      <td>833</td>\n",
       "      <td>639</td>\n",
       "      <td>821</td>\n",
       "      <td>808</td>\n",
       "      <td>961</td>\n",
       "      <td>529</td>\n",
       "      <td>583</td>\n",
       "      <td>525</td>\n",
       "      <td>7298</td>\n",
       "    </tr>\n",
       "  </tbody>\n",
       "</table>\n",
       "</div>"
      ],
      "text/plain": [
       "trip_interval  01 - 10  11 - 20  21 - 30  31 - 40  41 - 50  51 - 60  61 - 70  71 - 80  81 - 90  91 - 100   All\n",
       "success                                                                                                       \n",
       "0                  979      618      830      635      816      804      957      522      577       522  7260\n",
       "1                    1        1        3        4        5        4        4        7        6         3    38\n",
       "All                980      619      833      639      821      808      961      529      583       525  7298"
      ]
     },
     "metadata": {},
     "output_type": "display_data"
    },
    {
     "name": "stdout",
     "output_type": "stream",
     "text": [
      "\n",
      "Rewards:\n"
     ]
    },
    {
     "data": {
      "text/html": [
       "<div>\n",
       "<table border=\"1\" class=\"dataframe\">\n",
       "  <thead>\n",
       "    <tr style=\"text-align: right;\">\n",
       "      <th>trip_interval</th>\n",
       "      <th>01 - 10</th>\n",
       "      <th>11 - 20</th>\n",
       "      <th>21 - 30</th>\n",
       "      <th>31 - 40</th>\n",
       "      <th>41 - 50</th>\n",
       "      <th>51 - 60</th>\n",
       "      <th>61 - 70</th>\n",
       "      <th>71 - 80</th>\n",
       "      <th>81 - 90</th>\n",
       "      <th>91 - 100</th>\n",
       "      <th>All</th>\n",
       "    </tr>\n",
       "    <tr>\n",
       "      <th>reward</th>\n",
       "      <th></th>\n",
       "      <th></th>\n",
       "      <th></th>\n",
       "      <th></th>\n",
       "      <th></th>\n",
       "      <th></th>\n",
       "      <th></th>\n",
       "      <th></th>\n",
       "      <th></th>\n",
       "      <th></th>\n",
       "      <th></th>\n",
       "    </tr>\n",
       "  </thead>\n",
       "  <tbody>\n",
       "    <tr>\n",
       "      <th>-1</th>\n",
       "      <td>253</td>\n",
       "      <td>162</td>\n",
       "      <td>231</td>\n",
       "      <td>203</td>\n",
       "      <td>240</td>\n",
       "      <td>227</td>\n",
       "      <td>258</td>\n",
       "      <td>155</td>\n",
       "      <td>170</td>\n",
       "      <td>153</td>\n",
       "      <td>2052</td>\n",
       "    </tr>\n",
       "    <tr>\n",
       "      <th>0</th>\n",
       "      <td>559</td>\n",
       "      <td>348</td>\n",
       "      <td>439</td>\n",
       "      <td>332</td>\n",
       "      <td>453</td>\n",
       "      <td>422</td>\n",
       "      <td>533</td>\n",
       "      <td>264</td>\n",
       "      <td>333</td>\n",
       "      <td>281</td>\n",
       "      <td>3964</td>\n",
       "    </tr>\n",
       "    <tr>\n",
       "      <th>2</th>\n",
       "      <td>168</td>\n",
       "      <td>108</td>\n",
       "      <td>163</td>\n",
       "      <td>103</td>\n",
       "      <td>126</td>\n",
       "      <td>157</td>\n",
       "      <td>169</td>\n",
       "      <td>106</td>\n",
       "      <td>80</td>\n",
       "      <td>91</td>\n",
       "      <td>1271</td>\n",
       "    </tr>\n",
       "    <tr>\n",
       "      <th>9</th>\n",
       "      <td>0</td>\n",
       "      <td>1</td>\n",
       "      <td>0</td>\n",
       "      <td>0</td>\n",
       "      <td>1</td>\n",
       "      <td>0</td>\n",
       "      <td>0</td>\n",
       "      <td>2</td>\n",
       "      <td>0</td>\n",
       "      <td>0</td>\n",
       "      <td>4</td>\n",
       "    </tr>\n",
       "    <tr>\n",
       "      <th>12</th>\n",
       "      <td>0</td>\n",
       "      <td>0</td>\n",
       "      <td>0</td>\n",
       "      <td>1</td>\n",
       "      <td>1</td>\n",
       "      <td>2</td>\n",
       "      <td>1</td>\n",
       "      <td>2</td>\n",
       "      <td>0</td>\n",
       "      <td>0</td>\n",
       "      <td>7</td>\n",
       "    </tr>\n",
       "    <tr>\n",
       "      <th>All</th>\n",
       "      <td>980</td>\n",
       "      <td>619</td>\n",
       "      <td>833</td>\n",
       "      <td>639</td>\n",
       "      <td>821</td>\n",
       "      <td>808</td>\n",
       "      <td>961</td>\n",
       "      <td>529</td>\n",
       "      <td>583</td>\n",
       "      <td>525</td>\n",
       "      <td>7298</td>\n",
       "    </tr>\n",
       "  </tbody>\n",
       "</table>\n",
       "</div>"
      ],
      "text/plain": [
       "trip_interval  01 - 10  11 - 20  21 - 30  31 - 40  41 - 50  51 - 60  61 - 70  71 - 80  81 - 90  91 - 100   All\n",
       "reward                                                                                                        \n",
       "-1                 253      162      231      203      240      227      258      155      170       153  2052\n",
       "0                  559      348      439      332      453      422      533      264      333       281  3964\n",
       "2                  168      108      163      103      126      157      169      106       80        91  1271\n",
       "9                    0        1        0        0        1        0        0        2        0         0     4\n",
       "12                   0        0        0        1        1        2        1        2        0         0     7\n",
       "All                980      619      833      639      821      808      961      529      583       525  7298"
      ]
     },
     "metadata": {},
     "output_type": "display_data"
    },
    {
     "name": "stdout",
     "output_type": "stream",
     "text": [
      "\n",
      "Bad moves:\n"
     ]
    },
    {
     "data": {
      "text/html": [
       "<div>\n",
       "<table border=\"1\" class=\"dataframe\">\n",
       "  <thead>\n",
       "    <tr style=\"text-align: right;\">\n",
       "      <th>trip_interval</th>\n",
       "      <th>01 - 10</th>\n",
       "      <th>11 - 20</th>\n",
       "      <th>21 - 30</th>\n",
       "      <th>31 - 40</th>\n",
       "      <th>41 - 50</th>\n",
       "      <th>51 - 60</th>\n",
       "      <th>61 - 70</th>\n",
       "      <th>71 - 80</th>\n",
       "      <th>81 - 90</th>\n",
       "      <th>91 - 100</th>\n",
       "      <th>All</th>\n",
       "    </tr>\n",
       "    <tr>\n",
       "      <th>bad_moves</th>\n",
       "      <th></th>\n",
       "      <th></th>\n",
       "      <th></th>\n",
       "      <th></th>\n",
       "      <th></th>\n",
       "      <th></th>\n",
       "      <th></th>\n",
       "      <th></th>\n",
       "      <th></th>\n",
       "      <th></th>\n",
       "      <th></th>\n",
       "    </tr>\n",
       "  </thead>\n",
       "  <tbody>\n",
       "    <tr>\n",
       "      <th>0</th>\n",
       "      <td>727</td>\n",
       "      <td>457</td>\n",
       "      <td>602</td>\n",
       "      <td>436</td>\n",
       "      <td>581</td>\n",
       "      <td>581</td>\n",
       "      <td>703</td>\n",
       "      <td>374</td>\n",
       "      <td>413</td>\n",
       "      <td>372</td>\n",
       "      <td>5246</td>\n",
       "    </tr>\n",
       "    <tr>\n",
       "      <th>1</th>\n",
       "      <td>253</td>\n",
       "      <td>162</td>\n",
       "      <td>231</td>\n",
       "      <td>203</td>\n",
       "      <td>240</td>\n",
       "      <td>227</td>\n",
       "      <td>258</td>\n",
       "      <td>155</td>\n",
       "      <td>170</td>\n",
       "      <td>153</td>\n",
       "      <td>2052</td>\n",
       "    </tr>\n",
       "    <tr>\n",
       "      <th>All</th>\n",
       "      <td>980</td>\n",
       "      <td>619</td>\n",
       "      <td>833</td>\n",
       "      <td>639</td>\n",
       "      <td>821</td>\n",
       "      <td>808</td>\n",
       "      <td>961</td>\n",
       "      <td>529</td>\n",
       "      <td>583</td>\n",
       "      <td>525</td>\n",
       "      <td>7298</td>\n",
       "    </tr>\n",
       "  </tbody>\n",
       "</table>\n",
       "</div>"
      ],
      "text/plain": [
       "trip_interval  01 - 10  11 - 20  21 - 30  31 - 40  41 - 50  51 - 60  61 - 70  71 - 80  81 - 90  91 - 100   All\n",
       "bad_moves                                                                                                     \n",
       "0                  727      457      602      436      581      581      703      374      413       372  5246\n",
       "1                  253      162      231      203      240      227      258      155      170       153  2052\n",
       "All                980      619      833      639      821      808      961      529      583       525  7298"
      ]
     },
     "metadata": {},
     "output_type": "display_data"
    }
   ],
   "source": [
    "df = load_transform(fp)\n",
    "review_results(df)"
   ]
  },
  {
   "cell_type": "code",
   "execution_count": 5,
   "metadata": {
    "ExecuteTime": {
     "end_time": "2016-08-10T19:49:33.578853",
     "start_time": "2016-08-10T19:49:33.560410"
    },
    "collapsed": false
   },
   "outputs": [
    {
     "name": "stdout",
     "output_type": "stream",
     "text": [
      "\\begin{tabular}{lrr}\n",
      "\\toprule\n",
      " Trips    &   Success &   Bad moves \\\\\n",
      "\\midrule\n",
      " 01 - 10  &         1 &         253 \\\\\n",
      " 11 - 20  &         1 &         162 \\\\\n",
      " 21 - 30  &         3 &         231 \\\\\n",
      " 31 - 40  &         4 &         203 \\\\\n",
      " 41 - 50  &         5 &         240 \\\\\n",
      " 51 - 60  &         4 &         227 \\\\\n",
      " 61 - 70  &         4 &         258 \\\\\n",
      " 71 - 80  &         7 &         155 \\\\\n",
      " 81 - 90  &         6 &         170 \\\\\n",
      " 91 - 100 &         3 &         153 \\\\\n",
      "\\bottomrule\n",
      "\\end{tabular}\n"
     ]
    }
   ],
   "source": [
    "publish_results(df)"
   ]
  },
  {
   "cell_type": "code",
   "execution_count": 6,
   "metadata": {
    "ExecuteTime": {
     "end_time": "2016-08-10T19:49:36.900528",
     "start_time": "2016-08-10T19:49:33.580487"
    },
    "collapsed": false
   },
   "outputs": [
    {
     "data": {
      "text/plain": [
       "<matplotlib.figure.Figure at 0x115e8d780>"
      ]
     },
     "metadata": {},
     "output_type": "display_data"
    }
   ],
   "source": [
    "first_20 = df[df['trip'] <= 20]\n",
    "plot_path(first_20, deadline=False)"
   ]
  },
  {
   "cell_type": "code",
   "execution_count": 7,
   "metadata": {
    "ExecuteTime": {
     "end_time": "2016-08-10T19:49:36.972442",
     "start_time": "2016-08-10T19:49:36.902178"
    },
    "collapsed": true
   },
   "outputs": [],
   "source": [
    "random_agent_deadline = load_transform(\"./results/random_agent_deadline.json\")"
   ]
  },
  {
   "cell_type": "code",
   "execution_count": 8,
   "metadata": {
    "ExecuteTime": {
     "end_time": "2016-08-10T19:49:36.992670",
     "start_time": "2016-08-10T19:49:36.974107"
    },
    "collapsed": false
   },
   "outputs": [
    {
     "name": "stdout",
     "output_type": "stream",
     "text": [
      "\\begin{tabular}{lrr}\n",
      "\\toprule\n",
      " Trips    &   Success &   Bad moves \\\\\n",
      "\\midrule\n",
      " 01 - 10  &         1 &          79 \\\\\n",
      " 11 - 20  &         2 &          82 \\\\\n",
      " 21 - 30  &         2 &          99 \\\\\n",
      " 31 - 40  &         0 &          71 \\\\\n",
      " 41 - 50  &         2 &          70 \\\\\n",
      " 51 - 60  &         4 &          74 \\\\\n",
      " 61 - 70  &         1 &          77 \\\\\n",
      " 71 - 80  &         1 &          76 \\\\\n",
      " 81 - 90  &         2 &          82 \\\\\n",
      " 91 - 100 &         2 &          76 \\\\\n",
      "\\bottomrule\n",
      "\\end{tabular}\n"
     ]
    }
   ],
   "source": [
    "publish_results(random_agent_deadline)"
   ]
  }
 ],
 "metadata": {
  "kernelspec": {
   "display_name": "Python 3",
   "language": "python",
   "name": "python3"
  },
  "language_info": {
   "codemirror_mode": {
    "name": "ipython",
    "version": 3
   },
   "file_extension": ".py",
   "mimetype": "text/x-python",
   "name": "python",
   "nbconvert_exporter": "python",
   "pygments_lexer": "ipython3",
   "version": "3.5.1"
  },
  "latex_envs": {
   "bibliofile": "biblio.bib",
   "cite_by": "apalike",
   "current_citInitial": 1,
   "eqLabelWithNumbers": true,
   "eqNumInitial": 0
  }
 },
 "nbformat": 4,
 "nbformat_minor": 0
}

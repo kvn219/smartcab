{
 "cells": [
  {
   "cell_type": "code",
   "execution_count": 1,
   "metadata": {
    "ExecuteTime": {
     "end_time": "2016-08-10T15:55:34.521364",
     "start_time": "2016-08-10T15:55:34.034703"
    },
    "collapsed": false
   },
   "outputs": [],
   "source": [
    "%matplotlib inline\n",
    "%load_ext autoreload\n",
    "%autoreload 2\n",
    "from __future__ import division, print_function\n",
    "from __future__ import absolute_import, unicode_literals\n",
    "from IPython.display import display\n",
    "import pandas as pd\n",
    "import numpy as np\n",
    "from functools import reduce\n",
    "import matplotlib.pyplot as plt\n",
    "import seaborn as sns\n",
    "from tabulate import tabulate\n",
    "\n",
    "import bokeh.io\n",
    "import bokeh.mpl\n",
    "import bokeh.plotting\n",
    "\n",
    "%config InlineBackend.figure_formats = {'eps', 'retina'}\n",
    "bokeh.io.output_notebook()\n",
    "\n",
    "rc = {'lines.linewidth': 1, \n",
    "      'axes.labelsize': 14, \n",
    "      'axes.titlesize': 14, \n",
    "      'axes.facecolor': 'FFFFFF',\n",
    "       }\n",
    "\n",
    "sns.set_context('notebook', rc=rc)\n",
    "sns.set_style('white', rc=rc)\n",
    "sns.set_palette(\"colorblind\")\n",
    "\n",
    "pd.set_option('precision', 4)\n",
    "pd.set_option('display.max_rows', 500)\n",
    "pd.set_option('display.max_columns', 500)\n",
    "pd.set_option('display.width', 1000)"
   ]
  },
  {
   "cell_type": "code",
   "execution_count": 11,
   "metadata": {
    "ExecuteTime": {
     "end_time": "2016-08-10T15:58:20.166082",
     "start_time": "2016-08-10T15:58:20.106512"
    },
    "collapsed": true
   },
   "outputs": [],
   "source": [
    "def is_bad(x):\n",
    "    if x in [-0.5, -1.0, 9.5]:\n",
    "        return True\n",
    "    else:\n",
    "        return False\n",
    "\n",
    "def load_transform(fp):\n",
    "    df = pd.read_json(fp)\n",
    "    df = df.sort_values(by=['trip', 't'])\n",
    "    bins = [0, 10, 20, 30, 40, 50, 60, 70, 80, 90, 100]\n",
    "    df['trip_interval'] = pd.cut(df['trip'], \n",
    "                                    bins=bins,\n",
    "                                    precision=3,\n",
    "                                    labels = trips_intervals)\n",
    "    df['success'] = df['success'].astype(int)\n",
    "    df['reward'] = df['reward'].astype(int)\n",
    "    df['bad_moves'] = df['reward'].apply(lambda x: int(is_bad(x)))\n",
    "    return df\n",
    "\n",
    "\n",
    "def plot_path(df, deadline=False):\n",
    "    df = df.sort_values(by=['trip', 't'])\n",
    "    grid = sns.FacetGrid(df, col=\"trip\", \n",
    "                         hue=\"trip\",\n",
    "                         col_wrap=5,\n",
    "                         size=2.0,\n",
    "                         aspect=1.5)\n",
    "    grid.map(plt.axhline, y=0, ls=\":\", c=\".5\", label='No move')\n",
    "    grid.map(plt.plot, \"t\", \"reward\", marker=\"o\", ms=5, lw=.8)\n",
    "\n",
    "    if deadline:\n",
    "        grid.set(xticks=np.linspace(0, 50, 6, endpoint=True), xlim=(-1, 50), ylim=(-3, 13))\n",
    "    else:\n",
    "        grid.set(xticks=np.linspace(0, 150, 6, endpoint=True), xlim=(-1, 150), ylim=(-3, 13))\n",
    "    grid.fig.tight_layout(w_pad=1)\n",
    "    plt.savefig(\"./figures/q_learn_agent.eps\", format='eps', dpi=1000)\n",
    "\n",
    "def review_results(df):\n",
    "    print('Successful trips:')\n",
    "    display(pd.crosstab(df.trip_interval, df.success, margins=True).T)\n",
    "    \n",
    "    print(\"\\nRewards:\")\n",
    "    display(pd.crosstab(df.trip_interval, df.reward, margins=True).T)\n",
    "\n",
    "    print(\"\\nBad moves:\")\n",
    "    display(pd.crosstab(df.trip_interval, df.bad_moves, margins=True).T)\n",
    "    \n",
    "def publish_results(df, n=1):\n",
    "    print(tabulate(df.groupby(['trip_interval'])['success', 'bad_moves'].sum()/n,\n",
    "         headers=['Trips', 'Success', 'Bad moves'],\n",
    "         tablefmt='latex_booktabs'))\n",
    "    \n",
    "trips_intervals = ['01 - 10', '11 - 20', '21 - 30', '31 - 40', '41 - 50', '51 - 60', '61 - 70', '71 - 80', '81 - 90', '91 - 100']"
   ]
  },
  {
   "cell_type": "code",
   "execution_count": 3,
   "metadata": {
    "ExecuteTime": {
     "end_time": "2016-08-10T15:55:36.867483",
     "start_time": "2016-08-10T15:55:36.815320"
    },
    "collapsed": false
   },
   "outputs": [],
   "source": [
    "# File needed for the notebook\n",
    "fp = \"./results/q_agent.json\"\n",
    "df = load_transform(fp)"
   ]
  },
  {
   "cell_type": "code",
   "execution_count": 4,
   "metadata": {
    "ExecuteTime": {
     "end_time": "2016-08-10T15:55:37.951366",
     "start_time": "2016-08-10T15:55:37.844014"
    },
    "collapsed": false
   },
   "outputs": [
    {
     "name": "stdout",
     "output_type": "stream",
     "text": [
      "Successful trips:\n"
     ]
    },
    {
     "data": {
      "text/html": [
       "<div>\n",
       "<table border=\"1\" class=\"dataframe\">\n",
       "  <thead>\n",
       "    <tr style=\"text-align: right;\">\n",
       "      <th>trip_interval</th>\n",
       "      <th>01 - 10</th>\n",
       "      <th>11 - 20</th>\n",
       "      <th>21 - 30</th>\n",
       "      <th>31 - 40</th>\n",
       "      <th>41 - 50</th>\n",
       "      <th>51 - 60</th>\n",
       "      <th>61 - 70</th>\n",
       "      <th>71 - 80</th>\n",
       "      <th>81 - 90</th>\n",
       "      <th>91 - 100</th>\n",
       "      <th>All</th>\n",
       "    </tr>\n",
       "    <tr>\n",
       "      <th>success</th>\n",
       "      <th></th>\n",
       "      <th></th>\n",
       "      <th></th>\n",
       "      <th></th>\n",
       "      <th></th>\n",
       "      <th></th>\n",
       "      <th></th>\n",
       "      <th></th>\n",
       "      <th></th>\n",
       "      <th></th>\n",
       "      <th></th>\n",
       "    </tr>\n",
       "  </thead>\n",
       "  <tbody>\n",
       "    <tr>\n",
       "      <th>0</th>\n",
       "      <td>217</td>\n",
       "      <td>169</td>\n",
       "      <td>153</td>\n",
       "      <td>136</td>\n",
       "      <td>175</td>\n",
       "      <td>193</td>\n",
       "      <td>201</td>\n",
       "      <td>205</td>\n",
       "      <td>158</td>\n",
       "      <td>144</td>\n",
       "      <td>1751</td>\n",
       "    </tr>\n",
       "    <tr>\n",
       "      <th>1</th>\n",
       "      <td>4</td>\n",
       "      <td>5</td>\n",
       "      <td>5</td>\n",
       "      <td>6</td>\n",
       "      <td>6</td>\n",
       "      <td>5</td>\n",
       "      <td>2</td>\n",
       "      <td>2</td>\n",
       "      <td>7</td>\n",
       "      <td>5</td>\n",
       "      <td>47</td>\n",
       "    </tr>\n",
       "    <tr>\n",
       "      <th>All</th>\n",
       "      <td>221</td>\n",
       "      <td>174</td>\n",
       "      <td>158</td>\n",
       "      <td>142</td>\n",
       "      <td>181</td>\n",
       "      <td>198</td>\n",
       "      <td>203</td>\n",
       "      <td>207</td>\n",
       "      <td>165</td>\n",
       "      <td>149</td>\n",
       "      <td>1798</td>\n",
       "    </tr>\n",
       "  </tbody>\n",
       "</table>\n",
       "</div>"
      ],
      "text/plain": [
       "trip_interval  01 - 10  11 - 20  21 - 30  31 - 40  41 - 50  51 - 60  61 - 70  71 - 80  81 - 90  91 - 100   All\n",
       "success                                                                                                       \n",
       "0                  217      169      153      136      175      193      201      205      158       144  1751\n",
       "1                    4        5        5        6        6        5        2        2        7         5    47\n",
       "All                221      174      158      142      181      198      203      207      165       149  1798"
      ]
     },
     "metadata": {},
     "output_type": "display_data"
    },
    {
     "name": "stdout",
     "output_type": "stream",
     "text": [
      "\n",
      "Rewards:\n"
     ]
    },
    {
     "data": {
      "text/html": [
       "<div>\n",
       "<table border=\"1\" class=\"dataframe\">\n",
       "  <thead>\n",
       "    <tr style=\"text-align: right;\">\n",
       "      <th>trip_interval</th>\n",
       "      <th>01 - 10</th>\n",
       "      <th>11 - 20</th>\n",
       "      <th>21 - 30</th>\n",
       "      <th>31 - 40</th>\n",
       "      <th>41 - 50</th>\n",
       "      <th>51 - 60</th>\n",
       "      <th>61 - 70</th>\n",
       "      <th>71 - 80</th>\n",
       "      <th>81 - 90</th>\n",
       "      <th>91 - 100</th>\n",
       "      <th>All</th>\n",
       "    </tr>\n",
       "    <tr>\n",
       "      <th>reward</th>\n",
       "      <th></th>\n",
       "      <th></th>\n",
       "      <th></th>\n",
       "      <th></th>\n",
       "      <th></th>\n",
       "      <th></th>\n",
       "      <th></th>\n",
       "      <th></th>\n",
       "      <th></th>\n",
       "      <th></th>\n",
       "      <th></th>\n",
       "    </tr>\n",
       "  </thead>\n",
       "  <tbody>\n",
       "    <tr>\n",
       "      <th>-1</th>\n",
       "      <td>7</td>\n",
       "      <td>0</td>\n",
       "      <td>3</td>\n",
       "      <td>1</td>\n",
       "      <td>1</td>\n",
       "      <td>2</td>\n",
       "      <td>3</td>\n",
       "      <td>3</td>\n",
       "      <td>1</td>\n",
       "      <td>0</td>\n",
       "      <td>21</td>\n",
       "    </tr>\n",
       "    <tr>\n",
       "      <th>0</th>\n",
       "      <td>80</td>\n",
       "      <td>62</td>\n",
       "      <td>49</td>\n",
       "      <td>67</td>\n",
       "      <td>53</td>\n",
       "      <td>70</td>\n",
       "      <td>29</td>\n",
       "      <td>45</td>\n",
       "      <td>53</td>\n",
       "      <td>45</td>\n",
       "      <td>553</td>\n",
       "    </tr>\n",
       "    <tr>\n",
       "      <th>2</th>\n",
       "      <td>130</td>\n",
       "      <td>107</td>\n",
       "      <td>101</td>\n",
       "      <td>68</td>\n",
       "      <td>121</td>\n",
       "      <td>121</td>\n",
       "      <td>169</td>\n",
       "      <td>157</td>\n",
       "      <td>104</td>\n",
       "      <td>99</td>\n",
       "      <td>1177</td>\n",
       "    </tr>\n",
       "    <tr>\n",
       "      <th>12</th>\n",
       "      <td>4</td>\n",
       "      <td>5</td>\n",
       "      <td>5</td>\n",
       "      <td>6</td>\n",
       "      <td>6</td>\n",
       "      <td>5</td>\n",
       "      <td>2</td>\n",
       "      <td>2</td>\n",
       "      <td>7</td>\n",
       "      <td>5</td>\n",
       "      <td>47</td>\n",
       "    </tr>\n",
       "    <tr>\n",
       "      <th>All</th>\n",
       "      <td>221</td>\n",
       "      <td>174</td>\n",
       "      <td>158</td>\n",
       "      <td>142</td>\n",
       "      <td>181</td>\n",
       "      <td>198</td>\n",
       "      <td>203</td>\n",
       "      <td>207</td>\n",
       "      <td>165</td>\n",
       "      <td>149</td>\n",
       "      <td>1798</td>\n",
       "    </tr>\n",
       "  </tbody>\n",
       "</table>\n",
       "</div>"
      ],
      "text/plain": [
       "trip_interval  01 - 10  11 - 20  21 - 30  31 - 40  41 - 50  51 - 60  61 - 70  71 - 80  81 - 90  91 - 100   All\n",
       "reward                                                                                                        \n",
       "-1                   7        0        3        1        1        2        3        3        1         0    21\n",
       "0                   80       62       49       67       53       70       29       45       53        45   553\n",
       "2                  130      107      101       68      121      121      169      157      104        99  1177\n",
       "12                   4        5        5        6        6        5        2        2        7         5    47\n",
       "All                221      174      158      142      181      198      203      207      165       149  1798"
      ]
     },
     "metadata": {},
     "output_type": "display_data"
    },
    {
     "name": "stdout",
     "output_type": "stream",
     "text": [
      "\n",
      "Bad moves:\n"
     ]
    },
    {
     "data": {
      "text/html": [
       "<div>\n",
       "<table border=\"1\" class=\"dataframe\">\n",
       "  <thead>\n",
       "    <tr style=\"text-align: right;\">\n",
       "      <th>trip_interval</th>\n",
       "      <th>01 - 10</th>\n",
       "      <th>11 - 20</th>\n",
       "      <th>21 - 30</th>\n",
       "      <th>31 - 40</th>\n",
       "      <th>41 - 50</th>\n",
       "      <th>51 - 60</th>\n",
       "      <th>61 - 70</th>\n",
       "      <th>71 - 80</th>\n",
       "      <th>81 - 90</th>\n",
       "      <th>91 - 100</th>\n",
       "      <th>All</th>\n",
       "    </tr>\n",
       "    <tr>\n",
       "      <th>bad_moves</th>\n",
       "      <th></th>\n",
       "      <th></th>\n",
       "      <th></th>\n",
       "      <th></th>\n",
       "      <th></th>\n",
       "      <th></th>\n",
       "      <th></th>\n",
       "      <th></th>\n",
       "      <th></th>\n",
       "      <th></th>\n",
       "      <th></th>\n",
       "    </tr>\n",
       "  </thead>\n",
       "  <tbody>\n",
       "    <tr>\n",
       "      <th>0</th>\n",
       "      <td>214</td>\n",
       "      <td>174</td>\n",
       "      <td>155</td>\n",
       "      <td>141</td>\n",
       "      <td>180</td>\n",
       "      <td>196</td>\n",
       "      <td>200</td>\n",
       "      <td>204</td>\n",
       "      <td>164</td>\n",
       "      <td>149</td>\n",
       "      <td>1777</td>\n",
       "    </tr>\n",
       "    <tr>\n",
       "      <th>1</th>\n",
       "      <td>7</td>\n",
       "      <td>0</td>\n",
       "      <td>3</td>\n",
       "      <td>1</td>\n",
       "      <td>1</td>\n",
       "      <td>2</td>\n",
       "      <td>3</td>\n",
       "      <td>3</td>\n",
       "      <td>1</td>\n",
       "      <td>0</td>\n",
       "      <td>21</td>\n",
       "    </tr>\n",
       "    <tr>\n",
       "      <th>All</th>\n",
       "      <td>221</td>\n",
       "      <td>174</td>\n",
       "      <td>158</td>\n",
       "      <td>142</td>\n",
       "      <td>181</td>\n",
       "      <td>198</td>\n",
       "      <td>203</td>\n",
       "      <td>207</td>\n",
       "      <td>165</td>\n",
       "      <td>149</td>\n",
       "      <td>1798</td>\n",
       "    </tr>\n",
       "  </tbody>\n",
       "</table>\n",
       "</div>"
      ],
      "text/plain": [
       "trip_interval  01 - 10  11 - 20  21 - 30  31 - 40  41 - 50  51 - 60  61 - 70  71 - 80  81 - 90  91 - 100   All\n",
       "bad_moves                                                                                                     \n",
       "0                  214      174      155      141      180      196      200      204      164       149  1777\n",
       "1                    7        0        3        1        1        2        3        3        1         0    21\n",
       "All                221      174      158      142      181      198      203      207      165       149  1798"
      ]
     },
     "metadata": {},
     "output_type": "display_data"
    }
   ],
   "source": [
    "# Random Action No Deadline\n",
    "review_results(df)"
   ]
  },
  {
   "cell_type": "code",
   "execution_count": 5,
   "metadata": {
    "ExecuteTime": {
     "end_time": "2016-08-10T15:55:38.675349",
     "start_time": "2016-08-10T15:55:38.655066"
    },
    "collapsed": false
   },
   "outputs": [
    {
     "name": "stdout",
     "output_type": "stream",
     "text": [
      "\\begin{tabular}{lrr}\n",
      "\\toprule\n",
      " Trips    &   Success &   Bad moves \\\\\n",
      "\\midrule\n",
      " 01 - 10  &         4 &           7 \\\\\n",
      " 11 - 20  &         5 &           0 \\\\\n",
      " 21 - 30  &         5 &           3 \\\\\n",
      " 31 - 40  &         6 &           1 \\\\\n",
      " 41 - 50  &         6 &           1 \\\\\n",
      " 51 - 60  &         5 &           2 \\\\\n",
      " 61 - 70  &         2 &           3 \\\\\n",
      " 71 - 80  &         2 &           3 \\\\\n",
      " 81 - 90  &         7 &           1 \\\\\n",
      " 91 - 100 &         5 &           0 \\\\\n",
      "\\bottomrule\n",
      "\\end{tabular}\n"
     ]
    }
   ],
   "source": [
    "publish_results(df)"
   ]
  },
  {
   "cell_type": "code",
   "execution_count": 9,
   "metadata": {
    "ExecuteTime": {
     "end_time": "2016-08-10T15:56:00.858587",
     "start_time": "2016-08-10T15:55:57.902921"
    },
    "collapsed": false
   },
   "outputs": [
    {
     "data": {
      "text/plain": [
       "<matplotlib.figure.Figure at 0x1092d28d0>"
      ]
     },
     "metadata": {},
     "output_type": "display_data"
    }
   ],
   "source": [
    "first_20 = df[df['trip'].apply(lambda x: 0 < x <= 20)]\n",
    "plot_path(first_20, deadline=True)"
   ]
  },
  {
   "cell_type": "code",
   "execution_count": 7,
   "metadata": {
    "ExecuteTime": {
     "end_time": "2016-08-10T15:55:48.808001",
     "start_time": "2016-08-10T15:55:43.734950"
    },
    "collapsed": false,
    "scrolled": false
   },
   "outputs": [
    {
     "data": {
      "text/plain": [
       "<matplotlib.figure.Figure at 0x108a2c278>"
      ]
     },
     "metadata": {},
     "output_type": "display_data"
    }
   ],
   "source": [
    "# local_min = df[df['trip'].apply(lambda x: 31 <= x <= 60)]\n",
    "# plot_path(local_min, deadline=True)"
   ]
  },
  {
   "cell_type": "code",
   "execution_count": 13,
   "metadata": {
    "ExecuteTime": {
     "end_time": "2016-08-10T16:55:54.248544",
     "start_time": "2016-08-10T16:54:33.915328"
    },
    "collapsed": false
   },
   "outputs": [
    {
     "name": "stdout",
     "output_type": "stream",
     "text": [
      "\\begin{tabular}{lrr}\n",
      "\\toprule\n",
      " Trips    &   Success &   Bad moves \\\\\n",
      "\\midrule\n",
      " 01 - 10  &     4.178 &       5.47  \\\\\n",
      " 11 - 20  &     4.465 &       1.5   \\\\\n",
      " 21 - 30  &     4.452 &       1.384 \\\\\n",
      " 31 - 40  &     4.51  &       1.244 \\\\\n",
      " 41 - 50  &     4.319 &       1.143 \\\\\n",
      " 51 - 60  &     4.31  &       1.159 \\\\\n",
      " 61 - 70  &     4.251 &       1.042 \\\\\n",
      " 71 - 80  &     4.266 &       1.005 \\\\\n",
      " 81 - 90  &     4.193 &       0.901 \\\\\n",
      " 91 - 100 &     4.092 &       0.867 \\\\\n",
      "\\bottomrule\n",
      "\\end{tabular}\n"
     ]
    }
   ],
   "source": [
    "df = load_transform(\"./results/q_agent_sim_1000.json\")\n",
    "publish_results(df, n=1000)"
   ]
  }
 ],
 "metadata": {
  "kernelspec": {
   "display_name": "Python 3",
   "language": "python",
   "name": "python3"
  },
  "language_info": {
   "codemirror_mode": {
    "name": "ipython",
    "version": 3
   },
   "file_extension": ".py",
   "mimetype": "text/x-python",
   "name": "python",
   "nbconvert_exporter": "python",
   "pygments_lexer": "ipython3",
   "version": "3.5.1"
  },
  "latex_envs": {
   "bibliofile": "biblio.bib",
   "cite_by": "apalike",
   "current_citInitial": 1,
   "eqLabelWithNumbers": true,
   "eqNumInitial": 0
  }
 },
 "nbformat": 4,
 "nbformat_minor": 0
}

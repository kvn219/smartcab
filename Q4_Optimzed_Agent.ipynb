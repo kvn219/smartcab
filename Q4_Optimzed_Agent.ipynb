{
 "cells": [
  {
   "cell_type": "code",
   "execution_count": 1,
   "metadata": {
    "ExecuteTime": {
     "end_time": "2016-08-10T19:49:46.530419",
     "start_time": "2016-08-10T19:49:45.450400"
    },
    "collapsed": false
   },
   "outputs": [
    {
     "data": {
      "text/html": [
       "\n",
       "    <div class=\"bk-root\">\n",
       "        <a href=\"http://bokeh.pydata.org\" target=\"_blank\" class=\"bk-logo bk-logo-small bk-logo-notebook\"></a>\n",
       "        <span id=\"8eb94057-004b-43f1-bb1d-6466375ec8d2\">Loading BokehJS ...</span>\n",
       "    </div>"
      ]
     },
     "metadata": {},
     "output_type": "display_data"
    },
    {
     "data": {
      "application/javascript": [
       "\n",
       "(function(global) {\n",
       "  function now() {\n",
       "    return new Date();\n",
       "  }\n",
       "\n",
       "  var force = \"1\";\n",
       "\n",
       "  if (typeof (window._bokeh_onload_callbacks) === \"undefined\" || force !== \"\") {\n",
       "    window._bokeh_onload_callbacks = [];\n",
       "    window._bokeh_is_loading = undefined;\n",
       "  }\n",
       "\n",
       "  function run_callbacks() {\n",
       "    window._bokeh_onload_callbacks.forEach(function(callback) { callback() });\n",
       "    delete window._bokeh_onload_callbacks\n",
       "    console.info(\"Bokeh: all callbacks have finished\");\n",
       "  }\n",
       "\n",
       "  function load_libs(js_urls, callback) {\n",
       "    window._bokeh_onload_callbacks.push(callback);\n",
       "    if (window._bokeh_is_loading > 0) {\n",
       "      console.log(\"Bokeh: BokehJS is being loaded, scheduling callback at\", now());\n",
       "      return null;\n",
       "    }\n",
       "    if (js_urls == null || js_urls.length === 0) {\n",
       "      run_callbacks();\n",
       "      return null;\n",
       "    }\n",
       "    console.log(\"Bokeh: BokehJS not loaded, scheduling load and callback at\", now());\n",
       "    window._bokeh_is_loading = js_urls.length;\n",
       "    for (var i = 0; i < js_urls.length; i++) {\n",
       "      var url = js_urls[i];\n",
       "      var s = document.createElement('script');\n",
       "      s.src = url;\n",
       "      s.async = false;\n",
       "      s.onreadystatechange = s.onload = function() {\n",
       "        window._bokeh_is_loading--;\n",
       "        if (window._bokeh_is_loading === 0) {\n",
       "          console.log(\"Bokeh: all BokehJS libraries loaded\");\n",
       "          run_callbacks()\n",
       "        }\n",
       "      };\n",
       "      s.onerror = function() {\n",
       "        console.warn(\"failed to load library \" + url);\n",
       "      };\n",
       "      console.log(\"Bokeh: injecting script tag for BokehJS library: \", url);\n",
       "      document.getElementsByTagName(\"head\")[0].appendChild(s);\n",
       "    }\n",
       "  };\n",
       "\n",
       "  var js_urls = ['https://cdn.pydata.org/bokeh/release/bokeh-0.12.1.min.js', 'https://cdn.pydata.org/bokeh/release/bokeh-widgets-0.12.1.min.js', 'https://cdn.pydata.org/bokeh/release/bokeh-compiler-0.12.1.min.js'];\n",
       "\n",
       "  var inline_js = [\n",
       "    function(Bokeh) {\n",
       "      Bokeh.set_log_level(\"info\");\n",
       "    },\n",
       "    \n",
       "    function(Bokeh) {\n",
       "      \n",
       "      Bokeh.$(\"#8eb94057-004b-43f1-bb1d-6466375ec8d2\").text(\"BokehJS successfully loaded\");\n",
       "      var kernel = Jupyter.notebook.kernel\n",
       "      if (kernel.execute !== undefined) {\n",
       "          kernel.execute(\"import bokeh.io; bokeh.io._nb_loaded = True\");\n",
       "      }\n",
       "    },\n",
       "    function(Bokeh) {\n",
       "      console.log(\"Bokeh: injecting CSS: https://cdn.pydata.org/bokeh/release/bokeh-0.12.1.min.css\");\n",
       "      Bokeh.embed.inject_css(\"https://cdn.pydata.org/bokeh/release/bokeh-0.12.1.min.css\");\n",
       "      console.log(\"Bokeh: injecting CSS: https://cdn.pydata.org/bokeh/release/bokeh-widgets-0.12.1.min.css\");\n",
       "      Bokeh.embed.inject_css(\"https://cdn.pydata.org/bokeh/release/bokeh-widgets-0.12.1.min.css\");\n",
       "    }\n",
       "  ];\n",
       "\n",
       "  function run_inline_js() {\n",
       "    for (var i = 0; i < inline_js.length; i++) {\n",
       "      inline_js[i](window.Bokeh);\n",
       "    }\n",
       "  }\n",
       "\n",
       "  if (window._bokeh_is_loading === 0) {\n",
       "    console.log(\"Bokeh: BokehJS loaded, going straight to plotting\");\n",
       "    run_inline_js();\n",
       "  } else {\n",
       "    load_libs(js_urls, function() {\n",
       "      console.log(\"Bokeh: BokehJS plotting callback run at\", now());\n",
       "      run_inline_js();\n",
       "    });\n",
       "  }\n",
       "}(this));"
      ]
     },
     "metadata": {},
     "output_type": "display_data"
    }
   ],
   "source": [
    "%matplotlib inline\n",
    "%load_ext autoreload\n",
    "%autoreload 2\n",
    "from __future__ import division, print_function, absolute_import, unicode_literals\n",
    "from IPython.display import display\n",
    "import pandas as pd\n",
    "import numpy as np\n",
    "from functools import reduce\n",
    "import matplotlib.pyplot as plt\n",
    "import seaborn as sns\n",
    "from tabulate import tabulate\n",
    "\n",
    "import bokeh.io\n",
    "import bokeh.mpl\n",
    "import bokeh.plotting\n",
    "\n",
    "%config InlineBackend.figure_formats = {'eps', 'retina'}\n",
    "bokeh.io.output_notebook()\n",
    "\n",
    "rc = {'lines.linewidth': 1, \n",
    "      'axes.labelsize': 14, \n",
    "      'axes.titlesize': 14, \n",
    "      'axes.facecolor': 'FFFFFF',\n",
    "       }\n",
    "\n",
    "sns.set_context('notebook', rc=rc)\n",
    "sns.set_style('white', rc=rc)\n",
    "sns.set_palette(\"colorblind\")\n",
    "\n",
    "pd.set_option('precision', 4)\n",
    "pd.set_option('display.max_rows', 500)\n",
    "pd.set_option('display.max_columns', 500)\n",
    "pd.set_option('display.width', 1000)"
   ]
  },
  {
   "cell_type": "code",
   "execution_count": 2,
   "metadata": {
    "ExecuteTime": {
     "end_time": "2016-08-10T19:49:46.597786",
     "start_time": "2016-08-10T19:49:46.531919"
    },
    "collapsed": true
   },
   "outputs": [],
   "source": [
    "def is_bad(x):\n",
    "    if x in [-0.5, -1.0, 9.5]:\n",
    "        return True\n",
    "    else:\n",
    "        return False\n",
    "\n",
    "def load_transform(fp):\n",
    "    df = pd.read_json(fp)\n",
    "    df = df.sort_values(by=['trip', 't'])\n",
    "    bins = [0, 10, 20, 30, 40, 50, 60, 70, 80, 90, 100]\n",
    "    df['trip_interval'] = pd.cut(df['trip'], \n",
    "                                    bins=bins,\n",
    "                                    precision=3,\n",
    "                                    labels = trips_intervals)\n",
    "    df['success'] = df['success'].astype(int)\n",
    "    df['reward'] = df['reward'].astype(int)\n",
    "    df['bad_moves'] = df['reward'].apply(lambda x: int(is_bad(x)))\n",
    "    return df\n",
    "\n",
    "\n",
    "def plot_path(df, deadline=False):\n",
    "    df = df.sort_values(by=['trip', 't'])\n",
    "    grid = sns.FacetGrid(df, col=\"trip\", \n",
    "                         hue=\"trip\",\n",
    "                         col_wrap=5,\n",
    "                         size=2.0,\n",
    "                         aspect=1.5)\n",
    "    grid.map(plt.axhline, y=0, ls=\":\", c=\".5\", label='No move')\n",
    "    grid.map(plt.plot, \"t\", \"reward\", marker=\"o\", ms=5, lw=.8)\n",
    "\n",
    "    if deadline:\n",
    "        grid.set(xticks=np.linspace(0, 50, 6, endpoint=True), xlim=(-1, 50), ylim=(-3, 13))\n",
    "    else:\n",
    "        grid.set(xticks=np.linspace(0, 150, 6, endpoint=True), xlim=(-1, 150), ylim=(-3, 13))\n",
    "    grid.fig.tight_layout(w_pad=1)\n",
    "    plt.savefig(\"./figures/optmized_agent.eps\", format='eps', dpi=1000)\n",
    "\n",
    "def review_results(df):\n",
    "    print('Successful trips:')\n",
    "    display(pd.crosstab(df.trip_interval, df.success, margins=True).T)\n",
    "    \n",
    "    print(\"\\nRewards:\")\n",
    "    display(pd.crosstab(df.trip_interval, df.reward, margins=True).T)\n",
    "\n",
    "    print(\"\\nBad moves:\")\n",
    "    display(pd.crosstab(df.trip_interval, df.bad_moves, margins=True).T)\n",
    "    \n",
    "def publish_results(df, n=1):\n",
    "    print(tabulate(df.groupby(['trip_interval'])['success', 'bad_moves'].sum()/n,\n",
    "         headers=['Trips', 'Success', 'Bad moves'],\n",
    "         tablefmt='latex_booktabs'))\n",
    "    \n",
    "trips_intervals = ['01 - 10', '11 - 20', '21 - 30', '31 - 40', '41 - 50', '51 - 60', '61 - 70', '71 - 80', '81 - 90', '91 - 100']"
   ]
  },
  {
   "cell_type": "code",
   "execution_count": 3,
   "metadata": {
    "ExecuteTime": {
     "end_time": "2016-08-10T19:50:54.906187",
     "start_time": "2016-08-10T19:49:46.599396"
    },
    "collapsed": false
   },
   "outputs": [],
   "source": [
    "df = load_transform(\"./results/optimal_policy_sim_1000.json\")"
   ]
  },
  {
   "cell_type": "code",
   "execution_count": 4,
   "metadata": {
    "ExecuteTime": {
     "end_time": "2016-08-10T19:50:55.199077",
     "start_time": "2016-08-10T19:50:54.907751"
    },
    "collapsed": false,
    "scrolled": false
   },
   "outputs": [
    {
     "name": "stdout",
     "output_type": "stream",
     "text": [
      "\\begin{tabular}{lrr}\n",
      "\\toprule\n",
      " Trips    &   Success &   Bad moves \\\\\n",
      "\\midrule\n",
      " 01 - 10  &     4.209 &       5.95  \\\\\n",
      " 11 - 20  &     4.507 &       2.04  \\\\\n",
      " 21 - 30  &     4.57  &       1.789 \\\\\n",
      " 31 - 40  &     4.547 &       1.81  \\\\\n",
      " 41 - 50  &     4.43  &       1.609 \\\\\n",
      " 51 - 60  &     4.464 &       1.508 \\\\\n",
      " 61 - 70  &     4.577 &       1.527 \\\\\n",
      " 71 - 80  &     4.39  &       1.417 \\\\\n",
      " 81 - 90  &     4.45  &       1.349 \\\\\n",
      " 91 - 100 &     4.504 &       1.291 \\\\\n",
      "\\bottomrule\n",
      "\\end{tabular}\n"
     ]
    }
   ],
   "source": [
    "publish_results(df, n=1000)"
   ]
  },
  {
   "cell_type": "code",
   "execution_count": 5,
   "metadata": {
    "ExecuteTime": {
     "end_time": "2016-08-10T19:50:59.275363",
     "start_time": "2016-08-10T19:50:55.201363"
    },
    "collapsed": true
   },
   "outputs": [],
   "source": [
    "df = load_transform(\"./results/optimal_policy.json\")"
   ]
  },
  {
   "cell_type": "code",
   "execution_count": 6,
   "metadata": {
    "ExecuteTime": {
     "end_time": "2016-08-10T19:51:42.829885",
     "start_time": "2016-08-10T19:50:59.276967"
    },
    "collapsed": false
   },
   "outputs": [
    {
     "data": {
      "text/plain": [
       "<matplotlib.figure.Figure at 0x1db513898>"
      ]
     },
     "metadata": {},
     "output_type": "display_data"
    }
   ],
   "source": [
    "plot_path(df)"
   ]
  }
 ],
 "metadata": {
  "kernelspec": {
   "display_name": "Python 3",
   "language": "python",
   "name": "python3"
  },
  "language_info": {
   "codemirror_mode": {
    "name": "ipython",
    "version": 3
   },
   "file_extension": ".py",
   "mimetype": "text/x-python",
   "name": "python",
   "nbconvert_exporter": "python",
   "pygments_lexer": "ipython3",
   "version": "3.5.1"
  },
  "latex_envs": {
   "bibliofile": "biblio.bib",
   "cite_by": "apalike",
   "current_citInitial": 1,
   "eqLabelWithNumbers": true,
   "eqNumInitial": 0
  }
 },
 "nbformat": 4,
 "nbformat_minor": 0
}
